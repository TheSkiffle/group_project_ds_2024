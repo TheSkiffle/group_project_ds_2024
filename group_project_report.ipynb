{
 "cells": [
  {
   "cell_type": "markdown",
   "id": "deb316a4-a809-4204-9781-48e7a668509e",
   "metadata": {},
   "source": [
    "# **The Impact of Resting Heart Rate, Cholesterol, and Sex on Exercise Induced Angina and Types of Chest Pain**"
   ]
  },
  {
   "cell_type": "markdown",
   "id": "08fe2886-8c6a-426b-a6d6-04a7bab0aab0",
   "metadata": {},
   "source": [
    "### 1. Introduction"
   ]
  },
  {
   "cell_type": "markdown",
   "id": "ca785e7d-fc44-402c-bd8f-f7f46f2ac6b3",
   "metadata": {},
   "source": [
    "[]"
   ]
  },
  {
   "cell_type": "markdown",
   "id": "81fadafd-38c2-4694-898b-d56c3dff7bbc",
   "metadata": {},
   "source": [
    "### 2. Methods & Results"
   ]
  },
  {
   "cell_type": "markdown",
   "id": "bc13bbbf-ef2d-47e7-953e-93fb1ef62fdb",
   "metadata": {},
   "source": [
    "[]"
   ]
  },
  {
   "cell_type": "code",
   "execution_count": 2,
   "id": "b999c778-5fff-498e-a2e2-219e58d983a4",
   "metadata": {},
   "outputs": [],
   "source": [
    "### Run this cell before continuing.\n",
    "library(tidyverse)\n",
    "library(repr)\n",
    "library(tidymodels)\n",
    "options(repr.matrix.max.rows = 6)\n",
    "\n",
    "# set the seed\n",
    "set.seed(9999)"
   ]
  },
  {
   "cell_type": "code",
   "execution_count": null,
   "id": "e47a2be6-d338-43e3-93ce-6422b1980921",
   "metadata": {},
   "outputs": [
    {
     "name": "stderr",
     "output_type": "stream",
     "text": [
      "\u001b[1mRows: \u001b[22m\u001b[34m303\u001b[39m \u001b[1mColumns: \u001b[22m\u001b[34m14\u001b[39m\n",
      "\u001b[36m──\u001b[39m \u001b[1mColumn specification\u001b[22m \u001b[36m────────────────────────────────────────────────────────\u001b[39m\n",
      "\u001b[1mDelimiter:\u001b[22m \",\"\n",
      "\u001b[32mdbl\u001b[39m (14): age, sex, cp, trestbps, chol, fbs, restecg, thalach, exang, oldpea...\n",
      "\n",
      "\u001b[36mℹ\u001b[39m Use `spec()` to retrieve the full column specification for this data.\n",
      "\u001b[36mℹ\u001b[39m Specify the column types or set `show_col_types = FALSE` to quiet this message.\n",
      "\u001b[1mRows: \u001b[22m\u001b[34m294\u001b[39m \u001b[1mColumns: \u001b[22m\u001b[34m14\u001b[39m\n",
      "\u001b[36m──\u001b[39m \u001b[1mColumn specification\u001b[22m \u001b[36m────────────────────────────────────────────────────────\u001b[39m\n",
      "\u001b[1mDelimiter:\u001b[22m \" \"\n",
      "\u001b[32mdbl\u001b[39m (14): age, sex, cp, trestbps, chol, fbs, restecg, thalach, exang, oldpea...\n",
      "\n",
      "\u001b[36mℹ\u001b[39m Use `spec()` to retrieve the full column specification for this data.\n",
      "\u001b[36mℹ\u001b[39m Specify the column types or set `show_col_types = FALSE` to quiet this message.\n"
     ]
    }
   ],
   "source": [
    "# The following will be the only data frames that will be used\n",
    "processed_cleveland_url <- \"https://archive.ics.uci.edu/ml/machine-learning-databases/heart-disease/processed.cleveland.data\"\n",
    "reprocessed_hungarian_url <- \"https://archive.ics.uci.edu/ml/machine-learning-databases/heart-disease/reprocessed.hungarian.data\"\n",
    "processed_cleveland_data <- read_delim(processed_cleveland_url, col_names = c(\"age\", \"sex\", \"cp\", \"trestbps\", \"chol\", \"fbs\", \"restecg\", \"thalach\", \"exang\", \"oldpeak\", \"slope\", \"ca\", \"thal\", \"num\"), na = \"?\")\n",
    "reprocessed_hungarian_data <- read_delim(reprocessed_hungarian_url, col_names = c(\"age\", \"sex\", \"cp\", \"trestbps\", \"chol\", \"fbs\", \"restecg\", \"thalach\", \"exang\", \"oldpeak\", \"slope\", \"ca\", \"thal\", \"num\"), na = \"-9\")\n",
    "heartdata <- rbind(processed_cleveland_data, reprocessed_hungarian_data) |>\n",
    "    mutate(sex = as_factor(sex)) |>\n",
    "    mutate(fbs = as_factor(fbs)) |>\n",
    "    mutate(slope = as_factor(slope)) |>\n",
    "    mutate(cp = as_factor(cp)) |>\n",
    "    mutate(restecg = as_factor(restecg)) |>\n",
    "    mutate(thal = as_factor(thal)) |>\n",
    "    mutate(exang = as_factor(exang))\n",
    "\n",
    "# Out of the data frames we will use, we will select the columns of interest \n",
    "heartdata <- heartdata |>\n",
    "    select(exang, cp, sex, chol, trestbps)\n",
    "heartdata"
   ]
  },
  {
   "cell_type": "markdown",
   "id": "b974ae03-294b-40be-aabc-5baac63a8690",
   "metadata": {},
   "source": [
    "### 3. Discussion"
   ]
  },
  {
   "cell_type": "markdown",
   "id": "3a06dd20-3b4d-4466-bd71-16d3283e45c8",
   "metadata": {},
   "source": [
    "[]"
   ]
  },
  {
   "cell_type": "markdown",
   "id": "16dfeaca-1853-4658-ba01-18cd8f7f02a6",
   "metadata": {},
   "source": [
    "### 4. References"
   ]
  },
  {
   "cell_type": "markdown",
   "id": "c3e7ccd4-e395-43c0-bd32-88b86d8f7bd2",
   "metadata": {},
   "source": [
    "[]"
   ]
  }
 ],
 "metadata": {
  "kernelspec": {
   "display_name": "R",
   "language": "R",
   "name": "ir"
  },
  "language_info": {
   "codemirror_mode": "r",
   "file_extension": ".r",
   "mimetype": "text/x-r-source",
   "name": "R",
   "pygments_lexer": "r",
   "version": "4.3.1"
  }
 },
 "nbformat": 4,
 "nbformat_minor": 5
}
