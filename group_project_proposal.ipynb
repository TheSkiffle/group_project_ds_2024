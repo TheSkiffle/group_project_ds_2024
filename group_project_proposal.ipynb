{
 "cells": [
  {
   "cell_type": "markdown",
   "id": "466694f4-136e-417e-b03c-5770fa08a02f",
   "metadata": {},
   "source": [
    "(title)"
   ]
  },
  {
   "cell_type": "markdown",
   "id": "d5890565-9ace-46f8-9b71-505e42aa07f3",
   "metadata": {},
   "source": [
    "(introduction)"
   ]
  },
  {
   "cell_type": "markdown",
   "id": "e0c717bb-e805-46c9-8e3f-9ef81f16b220",
   "metadata": {},
   "source": [
    "(preliminary data analysis)"
   ]
  },
  {
   "cell_type": "markdown",
   "id": "4748abeb-6afa-44df-a650-03d1273b22fc",
   "metadata": {},
   "source": [
    "(methods)"
   ]
  },
  {
   "cell_type": "markdown",
   "id": "c03becf7-edb3-4a13-b33d-50ce7aeeb5a5",
   "metadata": {},
   "source": [
    "(expected outcomes and significance)"
   ]
  },
  {
   "cell_type": "code",
   "execution_count": null,
   "id": "64934d50-6b31-4b79-9114-502859cd338b",
   "metadata": {},
   "outputs": [],
   "source": []
  }
 ],
 "metadata": {
  "kernelspec": {
   "display_name": "R",
   "language": "R",
   "name": "ir"
  },
  "language_info": {
   "codemirror_mode": "r",
   "file_extension": ".r",
   "mimetype": "text/x-r-source",
   "name": "R",
   "pygments_lexer": "r",
   "version": "4.3.1"
  }
 },
 "nbformat": 4,
 "nbformat_minor": 5
}
