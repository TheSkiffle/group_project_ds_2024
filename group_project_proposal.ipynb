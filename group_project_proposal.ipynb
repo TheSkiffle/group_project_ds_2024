{
 "cells": [
  {
   "cell_type": "code",
   "execution_count": 14,
   "id": "b9de20ed-9e56-465a-aa93-06e97c05e56b",
   "metadata": {},
   "outputs": [],
   "source": [
    "### Run this cell before continuing.\n",
    "library(tidyverse)\n",
    "library(repr)\n",
    "library(tidymodels)\n",
    "options(repr.matrix.max.rows = 6)"
   ]
  },
  {
   "cell_type": "markdown",
   "id": "466694f4-136e-417e-b03c-5770fa08a02f",
   "metadata": {},
   "source": [
    "# **What is the impact of resting blood pressure on the likelihood of an exercise induced angina?**"
   ]
  },
  {
   "cell_type": "markdown",
   "id": "d5890565-9ace-46f8-9b71-505e42aa07f3",
   "metadata": {},
   "source": [
    "### Introduction"
   ]
  },
  {
   "cell_type": "markdown",
   "id": "e0c717bb-e805-46c9-8e3f-9ef81f16b220",
   "metadata": {},
   "source": [
    "### Preliminary data analysis"
   ]
  },
  {
   "cell_type": "markdown",
   "id": "85beb1e5-1bbb-412c-921a-8f948c9451a3",
   "metadata": {},
   "source": [
    "Demonstrate that the dataset can be read from the web into R:"
   ]
  },
  {
   "cell_type": "code",
   "execution_count": 15,
   "id": "f6efbd48-1b3b-46b3-add9-3e14cac13782",
   "metadata": {},
   "outputs": [
    {
     "name": "stderr",
     "output_type": "stream",
     "text": [
      "\u001b[1mRows: \u001b[22m\u001b[34m200\u001b[39m \u001b[1mColumns: \u001b[22m\u001b[34m14\u001b[39m\n",
      "\u001b[36m──\u001b[39m \u001b[1mColumn specification\u001b[22m \u001b[36m────────────────────────────────────────────────────────\u001b[39m\n",
      "\u001b[1mDelimiter:\u001b[22m \",\"\n",
      "\u001b[31mchr\u001b[39m (9): trestbps, chol, fbs, thalach, exang, oldpeak, slope, ca, thal\n",
      "\u001b[32mdbl\u001b[39m (5): age, sex, cp, restecg, num\n",
      "\n",
      "\u001b[36mℹ\u001b[39m Use `spec()` to retrieve the full column specification for this data.\n",
      "\u001b[36mℹ\u001b[39m Specify the column types or set `show_col_types = FALSE` to quiet this message.\n"
     ]
    },
    {
     "data": {
      "text/html": [
       "<table class=\"dataframe\">\n",
       "<caption>A spec_tbl_df: 200 × 14</caption>\n",
       "<thead>\n",
       "\t<tr><th scope=col>age</th><th scope=col>sex</th><th scope=col>cp</th><th scope=col>trestbps</th><th scope=col>chol</th><th scope=col>fbs</th><th scope=col>restecg</th><th scope=col>thalach</th><th scope=col>exang</th><th scope=col>oldpeak</th><th scope=col>slope</th><th scope=col>ca</th><th scope=col>thal</th><th scope=col>num</th></tr>\n",
       "\t<tr><th scope=col>&lt;dbl&gt;</th><th scope=col>&lt;dbl&gt;</th><th scope=col>&lt;dbl&gt;</th><th scope=col>&lt;chr&gt;</th><th scope=col>&lt;chr&gt;</th><th scope=col>&lt;chr&gt;</th><th scope=col>&lt;dbl&gt;</th><th scope=col>&lt;chr&gt;</th><th scope=col>&lt;chr&gt;</th><th scope=col>&lt;chr&gt;</th><th scope=col>&lt;chr&gt;</th><th scope=col>&lt;chr&gt;</th><th scope=col>&lt;chr&gt;</th><th scope=col>&lt;dbl&gt;</th></tr>\n",
       "</thead>\n",
       "<tbody>\n",
       "\t<tr><td>63</td><td>1</td><td>4</td><td>140</td><td>260</td><td>0</td><td>1</td><td>112</td><td>1</td><td>3  </td><td>2</td><td>?</td><td>?</td><td>2</td></tr>\n",
       "\t<tr><td>44</td><td>1</td><td>4</td><td>130</td><td>209</td><td>0</td><td>1</td><td>127</td><td>0</td><td>0  </td><td>?</td><td>?</td><td>?</td><td>0</td></tr>\n",
       "\t<tr><td>60</td><td>1</td><td>4</td><td>132</td><td>218</td><td>0</td><td>1</td><td>140</td><td>1</td><td>1.5</td><td>3</td><td>?</td><td>?</td><td>2</td></tr>\n",
       "\t<tr><td>⋮</td><td>⋮</td><td>⋮</td><td>⋮</td><td>⋮</td><td>⋮</td><td>⋮</td><td>⋮</td><td>⋮</td><td>⋮</td><td>⋮</td><td>⋮</td><td>⋮</td><td>⋮</td></tr>\n",
       "\t<tr><td>55</td><td>1</td><td>4</td><td>122</td><td>223</td><td>1</td><td>1</td><td>100</td><td>0</td><td>0</td><td>?</td><td>?</td><td>6</td><td>2</td></tr>\n",
       "\t<tr><td>58</td><td>1</td><td>4</td><td>?  </td><td>385</td><td>1</td><td>2</td><td>?  </td><td>?</td><td>?</td><td>?</td><td>?</td><td>?</td><td>0</td></tr>\n",
       "\t<tr><td>62</td><td>1</td><td>2</td><td>120</td><td>254</td><td>0</td><td>2</td><td>93 </td><td>1</td><td>0</td><td>?</td><td>?</td><td>?</td><td>1</td></tr>\n",
       "</tbody>\n",
       "</table>\n"
      ],
      "text/latex": [
       "A spec\\_tbl\\_df: 200 × 14\n",
       "\\begin{tabular}{llllllllllllll}\n",
       " age & sex & cp & trestbps & chol & fbs & restecg & thalach & exang & oldpeak & slope & ca & thal & num\\\\\n",
       " <dbl> & <dbl> & <dbl> & <chr> & <chr> & <chr> & <dbl> & <chr> & <chr> & <chr> & <chr> & <chr> & <chr> & <dbl>\\\\\n",
       "\\hline\n",
       "\t 63 & 1 & 4 & 140 & 260 & 0 & 1 & 112 & 1 & 3   & 2 & ? & ? & 2\\\\\n",
       "\t 44 & 1 & 4 & 130 & 209 & 0 & 1 & 127 & 0 & 0   & ? & ? & ? & 0\\\\\n",
       "\t 60 & 1 & 4 & 132 & 218 & 0 & 1 & 140 & 1 & 1.5 & 3 & ? & ? & 2\\\\\n",
       "\t ⋮ & ⋮ & ⋮ & ⋮ & ⋮ & ⋮ & ⋮ & ⋮ & ⋮ & ⋮ & ⋮ & ⋮ & ⋮ & ⋮\\\\\n",
       "\t 55 & 1 & 4 & 122 & 223 & 1 & 1 & 100 & 0 & 0 & ? & ? & 6 & 2\\\\\n",
       "\t 58 & 1 & 4 & ?   & 385 & 1 & 2 & ?   & ? & ? & ? & ? & ? & 0\\\\\n",
       "\t 62 & 1 & 2 & 120 & 254 & 0 & 2 & 93  & 1 & 0 & ? & ? & ? & 1\\\\\n",
       "\\end{tabular}\n"
      ],
      "text/markdown": [
       "\n",
       "A spec_tbl_df: 200 × 14\n",
       "\n",
       "| age &lt;dbl&gt; | sex &lt;dbl&gt; | cp &lt;dbl&gt; | trestbps &lt;chr&gt; | chol &lt;chr&gt; | fbs &lt;chr&gt; | restecg &lt;dbl&gt; | thalach &lt;chr&gt; | exang &lt;chr&gt; | oldpeak &lt;chr&gt; | slope &lt;chr&gt; | ca &lt;chr&gt; | thal &lt;chr&gt; | num &lt;dbl&gt; |\n",
       "|---|---|---|---|---|---|---|---|---|---|---|---|---|---|\n",
       "| 63 | 1 | 4 | 140 | 260 | 0 | 1 | 112 | 1 | 3   | 2 | ? | ? | 2 |\n",
       "| 44 | 1 | 4 | 130 | 209 | 0 | 1 | 127 | 0 | 0   | ? | ? | ? | 0 |\n",
       "| 60 | 1 | 4 | 132 | 218 | 0 | 1 | 140 | 1 | 1.5 | 3 | ? | ? | 2 |\n",
       "| ⋮ | ⋮ | ⋮ | ⋮ | ⋮ | ⋮ | ⋮ | ⋮ | ⋮ | ⋮ | ⋮ | ⋮ | ⋮ | ⋮ |\n",
       "| 55 | 1 | 4 | 122 | 223 | 1 | 1 | 100 | 0 | 0 | ? | ? | 6 | 2 |\n",
       "| 58 | 1 | 4 | ?   | 385 | 1 | 2 | ?   | ? | ? | ? | ? | ? | 0 |\n",
       "| 62 | 1 | 2 | 120 | 254 | 0 | 2 | 93  | 1 | 0 | ? | ? | ? | 1 |\n",
       "\n"
      ],
      "text/plain": [
       "    age sex cp trestbps chol fbs restecg thalach exang oldpeak slope ca thal\n",
       "1   63  1   4  140      260  0   1       112     1     3       2     ?  ?   \n",
       "2   44  1   4  130      209  0   1       127     0     0       ?     ?  ?   \n",
       "3   60  1   4  132      218  0   1       140     1     1.5     3     ?  ?   \n",
       "⋮   ⋮   ⋮   ⋮  ⋮        ⋮    ⋮   ⋮       ⋮       ⋮     ⋮       ⋮     ⋮  ⋮   \n",
       "198 55  1   4  122      223  1   1       100     0     0       ?     ?  6   \n",
       "199 58  1   4  ?        385  1   2       ?       ?     ?       ?     ?  ?   \n",
       "200 62  1   2  120      254  0   2       93      1     0       ?     ?  ?   \n",
       "    num\n",
       "1   2  \n",
       "2   0  \n",
       "3   2  \n",
       "⋮   ⋮  \n",
       "198 2  \n",
       "199 0  \n",
       "200 1  "
      ]
     },
     "metadata": {},
     "output_type": "display_data"
    }
   ],
   "source": [
    "bak_data <- read_csv(\"Data/bak\", col_names = c(\"age\", \"sex\", \"cp\", \"trestbps\", \"chol\", \"fbs\", \"restecg\", \"thalach\", \"exang\", \"oldpeak\", \"slope\", \"ca\", \"thal\", \"num\"))\n",
    "bak_data"
   ]
  },
  {
   "cell_type": "code",
   "execution_count": 19,
   "id": "47f6fa7b-a9d3-4991-bd25-91d605b785ee",
   "metadata": {},
   "outputs": [
    {
     "name": "stderr",
     "output_type": "stream",
     "text": [
      "\u001b[1mRows: \u001b[22m\u001b[34m303\u001b[39m \u001b[1mColumns: \u001b[22m\u001b[34m15\u001b[39m\n",
      "\u001b[36m──\u001b[39m \u001b[1mColumn specification\u001b[22m \u001b[36m────────────────────────────────────────────────────────\u001b[39m\n",
      "\u001b[1mDelimiter:\u001b[22m \" \"\n",
      "\u001b[31mchr\u001b[39m (10): sex, cp, fbs, restecg, exang, slope, ca, thal, num, X15\n",
      "\u001b[32mdbl\u001b[39m  (5): age, trestbps, chol, thalach, oldpeak\n",
      "\n",
      "\u001b[36mℹ\u001b[39m Use `spec()` to retrieve the full column specification for this data.\n",
      "\u001b[36mℹ\u001b[39m Specify the column types or set `show_col_types = FALSE` to quiet this message.\n"
     ]
    },
    {
     "data": {
      "text/html": [
       "<table class=\"dataframe\">\n",
       "<caption>A spec_tbl_df: 303 × 15</caption>\n",
       "<thead>\n",
       "\t<tr><th scope=col>age</th><th scope=col>sex</th><th scope=col>cp</th><th scope=col>trestbps</th><th scope=col>chol</th><th scope=col>fbs</th><th scope=col>restecg</th><th scope=col>thalach</th><th scope=col>exang</th><th scope=col>oldpeak</th><th scope=col>slope</th><th scope=col>ca</th><th scope=col>thal</th><th scope=col>num</th><th scope=col>X15</th></tr>\n",
       "\t<tr><th scope=col>&lt;dbl&gt;</th><th scope=col>&lt;chr&gt;</th><th scope=col>&lt;chr&gt;</th><th scope=col>&lt;dbl&gt;</th><th scope=col>&lt;dbl&gt;</th><th scope=col>&lt;chr&gt;</th><th scope=col>&lt;chr&gt;</th><th scope=col>&lt;dbl&gt;</th><th scope=col>&lt;chr&gt;</th><th scope=col>&lt;dbl&gt;</th><th scope=col>&lt;chr&gt;</th><th scope=col>&lt;chr&gt;</th><th scope=col>&lt;chr&gt;</th><th scope=col>&lt;chr&gt;</th><th scope=col>&lt;chr&gt;</th></tr>\n",
       "</thead>\n",
       "<tbody>\n",
       "\t<tr><td>63</td><td>male</td><td>angina</td><td>145</td><td>233</td><td>true</td><td>hyp</td><td>150</td><td>fal </td><td>2.3</td><td>down</td><td>0.0</td><td>fix </td><td>buff</td><td>H </td></tr>\n",
       "\t<tr><td>67</td><td>male</td><td>asympt</td><td>160</td><td>286</td><td>fal </td><td>hyp</td><td>108</td><td>true</td><td>1.5</td><td>flat</td><td>3.0</td><td>norm</td><td>sick</td><td>S2</td></tr>\n",
       "\t<tr><td>67</td><td>male</td><td>asympt</td><td>120</td><td>229</td><td>fal </td><td>hyp</td><td>129</td><td>true</td><td>2.6</td><td>flat</td><td>2.0</td><td>rev </td><td>sick</td><td>S1</td></tr>\n",
       "\t<tr><td>⋮</td><td>⋮</td><td>⋮</td><td>⋮</td><td>⋮</td><td>⋮</td><td>⋮</td><td>⋮</td><td>⋮</td><td>⋮</td><td>⋮</td><td>⋮</td><td>⋮</td><td>⋮</td><td>⋮</td></tr>\n",
       "\t<tr><td>49</td><td>male</td><td>notang</td><td>118</td><td>149</td><td>fal</td><td>hyp </td><td>126</td><td>fal </td><td>0.8</td><td>up</td><td>3.0</td><td>norm</td><td>sick</td><td>S1</td></tr>\n",
       "\t<tr><td>74</td><td>fem </td><td>abnang</td><td>120</td><td>269</td><td>fal</td><td>hyp </td><td>121</td><td>true</td><td>0.2</td><td>up</td><td>1.0</td><td>norm</td><td>buff</td><td>H </td></tr>\n",
       "\t<tr><td>54</td><td>fem </td><td>notang</td><td>160</td><td>201</td><td>fal</td><td>norm</td><td>163</td><td>fal </td><td>0.0</td><td>up</td><td>1.0</td><td>norm</td><td>buff</td><td>H </td></tr>\n",
       "</tbody>\n",
       "</table>\n"
      ],
      "text/latex": [
       "A spec\\_tbl\\_df: 303 × 15\n",
       "\\begin{tabular}{lllllllllllllll}\n",
       " age & sex & cp & trestbps & chol & fbs & restecg & thalach & exang & oldpeak & slope & ca & thal & num & X15\\\\\n",
       " <dbl> & <chr> & <chr> & <dbl> & <dbl> & <chr> & <chr> & <dbl> & <chr> & <dbl> & <chr> & <chr> & <chr> & <chr> & <chr>\\\\\n",
       "\\hline\n",
       "\t 63 & male & angina & 145 & 233 & true & hyp & 150 & fal  & 2.3 & down & 0.0 & fix  & buff & H \\\\\n",
       "\t 67 & male & asympt & 160 & 286 & fal  & hyp & 108 & true & 1.5 & flat & 3.0 & norm & sick & S2\\\\\n",
       "\t 67 & male & asympt & 120 & 229 & fal  & hyp & 129 & true & 2.6 & flat & 2.0 & rev  & sick & S1\\\\\n",
       "\t ⋮ & ⋮ & ⋮ & ⋮ & ⋮ & ⋮ & ⋮ & ⋮ & ⋮ & ⋮ & ⋮ & ⋮ & ⋮ & ⋮ & ⋮\\\\\n",
       "\t 49 & male & notang & 118 & 149 & fal & hyp  & 126 & fal  & 0.8 & up & 3.0 & norm & sick & S1\\\\\n",
       "\t 74 & fem  & abnang & 120 & 269 & fal & hyp  & 121 & true & 0.2 & up & 1.0 & norm & buff & H \\\\\n",
       "\t 54 & fem  & notang & 160 & 201 & fal & norm & 163 & fal  & 0.0 & up & 1.0 & norm & buff & H \\\\\n",
       "\\end{tabular}\n"
      ],
      "text/markdown": [
       "\n",
       "A spec_tbl_df: 303 × 15\n",
       "\n",
       "| age &lt;dbl&gt; | sex &lt;chr&gt; | cp &lt;chr&gt; | trestbps &lt;dbl&gt; | chol &lt;dbl&gt; | fbs &lt;chr&gt; | restecg &lt;chr&gt; | thalach &lt;dbl&gt; | exang &lt;chr&gt; | oldpeak &lt;dbl&gt; | slope &lt;chr&gt; | ca &lt;chr&gt; | thal &lt;chr&gt; | num &lt;chr&gt; | X15 &lt;chr&gt; |\n",
       "|---|---|---|---|---|---|---|---|---|---|---|---|---|---|---|\n",
       "| 63 | male | angina | 145 | 233 | true | hyp | 150 | fal  | 2.3 | down | 0.0 | fix  | buff | H  |\n",
       "| 67 | male | asympt | 160 | 286 | fal  | hyp | 108 | true | 1.5 | flat | 3.0 | norm | sick | S2 |\n",
       "| 67 | male | asympt | 120 | 229 | fal  | hyp | 129 | true | 2.6 | flat | 2.0 | rev  | sick | S1 |\n",
       "| ⋮ | ⋮ | ⋮ | ⋮ | ⋮ | ⋮ | ⋮ | ⋮ | ⋮ | ⋮ | ⋮ | ⋮ | ⋮ | ⋮ | ⋮ |\n",
       "| 49 | male | notang | 118 | 149 | fal | hyp  | 126 | fal  | 0.8 | up | 3.0 | norm | sick | S1 |\n",
       "| 74 | fem  | abnang | 120 | 269 | fal | hyp  | 121 | true | 0.2 | up | 1.0 | norm | buff | H  |\n",
       "| 54 | fem  | notang | 160 | 201 | fal | norm | 163 | fal  | 0.0 | up | 1.0 | norm | buff | H  |\n",
       "\n"
      ],
      "text/plain": [
       "    age sex  cp     trestbps chol fbs  restecg thalach exang oldpeak slope ca \n",
       "1   63  male angina 145      233  true hyp     150     fal   2.3     down  0.0\n",
       "2   67  male asympt 160      286  fal  hyp     108     true  1.5     flat  3.0\n",
       "3   67  male asympt 120      229  fal  hyp     129     true  2.6     flat  2.0\n",
       "⋮   ⋮   ⋮    ⋮      ⋮        ⋮    ⋮    ⋮       ⋮       ⋮     ⋮       ⋮     ⋮  \n",
       "301 49  male notang 118      149  fal  hyp     126     fal   0.8     up    3.0\n",
       "302 74  fem  abnang 120      269  fal  hyp     121     true  0.2     up    1.0\n",
       "303 54  fem  notang 160      201  fal  norm    163     fal   0.0     up    1.0\n",
       "    thal num  X15\n",
       "1   fix  buff H  \n",
       "2   norm sick S2 \n",
       "3   rev  sick S1 \n",
       "⋮   ⋮    ⋮    ⋮  \n",
       "301 norm sick S1 \n",
       "302 norm buff H  \n",
       "303 norm buff H  "
      ]
     },
     "metadata": {},
     "output_type": "display_data"
    }
   ],
   "source": [
    "clevemod_data <- read_delim(\"Data/cleve.mod\", skip = 20, col_names = c(\"age\", \"sex\", \"cp\", \"trestbps\", \"chol\", \"fbs\", \"restecg\", \"thalach\", \"exang\", \"oldpeak\", \"slope\", \"ca\", \"thal\", \"num\"))\n",
    "clevemod_data"
   ]
  },
  {
   "cell_type": "code",
   "execution_count": 21,
   "id": "9302810f-8364-4c0c-a4bf-a7ac52eb5369",
   "metadata": {},
   "outputs": [
    {
     "name": "stderr",
     "output_type": "stream",
     "text": [
      "\u001b[1mRows: \u001b[22m\u001b[34m283\u001b[39m \u001b[1mColumns: \u001b[22m\u001b[34m14\u001b[39m\n",
      "\u001b[36m──\u001b[39m \u001b[1mColumn specification\u001b[22m \u001b[36m────────────────────────────────────────────────────────\u001b[39m\n",
      "\u001b[1mDelimiter:\u001b[22m \",\"\n",
      "\u001b[31mchr\u001b[39m  (2): ca, thal\n",
      "\u001b[32mdbl\u001b[39m (12): age, sex, cp, trestbps, chol, fbs, restecg, thalach, exang, oldpea...\n",
      "\n",
      "\u001b[36mℹ\u001b[39m Use `spec()` to retrieve the full column specification for this data.\n",
      "\u001b[36mℹ\u001b[39m Specify the column types or set `show_col_types = FALSE` to quiet this message.\n"
     ]
    },
    {
     "data": {
      "text/html": [
       "<table class=\"dataframe\">\n",
       "<caption>A spec_tbl_df: 283 × 14</caption>\n",
       "<thead>\n",
       "\t<tr><th scope=col>age</th><th scope=col>sex</th><th scope=col>cp</th><th scope=col>trestbps</th><th scope=col>chol</th><th scope=col>fbs</th><th scope=col>restecg</th><th scope=col>thalach</th><th scope=col>exang</th><th scope=col>oldpeak</th><th scope=col>slope</th><th scope=col>ca</th><th scope=col>thal</th><th scope=col>num</th></tr>\n",
       "\t<tr><th scope=col>&lt;dbl&gt;</th><th scope=col>&lt;dbl&gt;</th><th scope=col>&lt;dbl&gt;</th><th scope=col>&lt;dbl&gt;</th><th scope=col>&lt;dbl&gt;</th><th scope=col>&lt;dbl&gt;</th><th scope=col>&lt;dbl&gt;</th><th scope=col>&lt;dbl&gt;</th><th scope=col>&lt;dbl&gt;</th><th scope=col>&lt;dbl&gt;</th><th scope=col>&lt;dbl&gt;</th><th scope=col>&lt;chr&gt;</th><th scope=col>&lt;chr&gt;</th><th scope=col>&lt;dbl&gt;</th></tr>\n",
       "</thead>\n",
       "<tbody>\n",
       "\t<tr><td>64</td><td>1</td><td>1</td><td>110</td><td>211</td><td>0</td><td>2</td><td>144</td><td>1</td><td>1.8</td><td>2</td><td>0.0</td><td>3.0</td><td>0</td></tr>\n",
       "\t<tr><td>58</td><td>0</td><td>1</td><td>150</td><td>283</td><td>1</td><td>2</td><td>162</td><td>0</td><td>1.0</td><td>1</td><td>0.0</td><td>3.0</td><td>0</td></tr>\n",
       "\t<tr><td>58</td><td>1</td><td>2</td><td>120</td><td>284</td><td>0</td><td>2</td><td>160</td><td>0</td><td>1.8</td><td>2</td><td>0.0</td><td>3.0</td><td>1</td></tr>\n",
       "\t<tr><td>⋮</td><td>⋮</td><td>⋮</td><td>⋮</td><td>⋮</td><td>⋮</td><td>⋮</td><td>⋮</td><td>⋮</td><td>⋮</td><td>⋮</td><td>⋮</td><td>⋮</td><td>⋮</td></tr>\n",
       "\t<tr><td>57</td><td>1</td><td>4</td><td>130</td><td>131</td><td>0</td><td>0</td><td>115</td><td>1</td><td>1.2</td><td>2</td><td>1.0</td><td>7.0</td><td>3</td></tr>\n",
       "\t<tr><td>57</td><td>0</td><td>2</td><td>130</td><td>236</td><td>0</td><td>2</td><td>174</td><td>0</td><td>0.0</td><td>2</td><td>1.0</td><td>3.0</td><td>1</td></tr>\n",
       "\t<tr><td>38</td><td>1</td><td>3</td><td>138</td><td>175</td><td>0</td><td>0</td><td>173</td><td>0</td><td>0.0</td><td>1</td><td>?  </td><td>3.0</td><td>0</td></tr>\n",
       "</tbody>\n",
       "</table>\n"
      ],
      "text/latex": [
       "A spec\\_tbl\\_df: 283 × 14\n",
       "\\begin{tabular}{llllllllllllll}\n",
       " age & sex & cp & trestbps & chol & fbs & restecg & thalach & exang & oldpeak & slope & ca & thal & num\\\\\n",
       " <dbl> & <dbl> & <dbl> & <dbl> & <dbl> & <dbl> & <dbl> & <dbl> & <dbl> & <dbl> & <dbl> & <chr> & <chr> & <dbl>\\\\\n",
       "\\hline\n",
       "\t 64 & 1 & 1 & 110 & 211 & 0 & 2 & 144 & 1 & 1.8 & 2 & 0.0 & 3.0 & 0\\\\\n",
       "\t 58 & 0 & 1 & 150 & 283 & 1 & 2 & 162 & 0 & 1.0 & 1 & 0.0 & 3.0 & 0\\\\\n",
       "\t 58 & 1 & 2 & 120 & 284 & 0 & 2 & 160 & 0 & 1.8 & 2 & 0.0 & 3.0 & 1\\\\\n",
       "\t ⋮ & ⋮ & ⋮ & ⋮ & ⋮ & ⋮ & ⋮ & ⋮ & ⋮ & ⋮ & ⋮ & ⋮ & ⋮ & ⋮\\\\\n",
       "\t 57 & 1 & 4 & 130 & 131 & 0 & 0 & 115 & 1 & 1.2 & 2 & 1.0 & 7.0 & 3\\\\\n",
       "\t 57 & 0 & 2 & 130 & 236 & 0 & 2 & 174 & 0 & 0.0 & 2 & 1.0 & 3.0 & 1\\\\\n",
       "\t 38 & 1 & 3 & 138 & 175 & 0 & 0 & 173 & 0 & 0.0 & 1 & ?   & 3.0 & 0\\\\\n",
       "\\end{tabular}\n"
      ],
      "text/markdown": [
       "\n",
       "A spec_tbl_df: 283 × 14\n",
       "\n",
       "| age &lt;dbl&gt; | sex &lt;dbl&gt; | cp &lt;dbl&gt; | trestbps &lt;dbl&gt; | chol &lt;dbl&gt; | fbs &lt;dbl&gt; | restecg &lt;dbl&gt; | thalach &lt;dbl&gt; | exang &lt;dbl&gt; | oldpeak &lt;dbl&gt; | slope &lt;dbl&gt; | ca &lt;chr&gt; | thal &lt;chr&gt; | num &lt;dbl&gt; |\n",
       "|---|---|---|---|---|---|---|---|---|---|---|---|---|---|\n",
       "| 64 | 1 | 1 | 110 | 211 | 0 | 2 | 144 | 1 | 1.8 | 2 | 0.0 | 3.0 | 0 |\n",
       "| 58 | 0 | 1 | 150 | 283 | 1 | 2 | 162 | 0 | 1.0 | 1 | 0.0 | 3.0 | 0 |\n",
       "| 58 | 1 | 2 | 120 | 284 | 0 | 2 | 160 | 0 | 1.8 | 2 | 0.0 | 3.0 | 1 |\n",
       "| ⋮ | ⋮ | ⋮ | ⋮ | ⋮ | ⋮ | ⋮ | ⋮ | ⋮ | ⋮ | ⋮ | ⋮ | ⋮ | ⋮ |\n",
       "| 57 | 1 | 4 | 130 | 131 | 0 | 0 | 115 | 1 | 1.2 | 2 | 1.0 | 7.0 | 3 |\n",
       "| 57 | 0 | 2 | 130 | 236 | 0 | 2 | 174 | 0 | 0.0 | 2 | 1.0 | 3.0 | 1 |\n",
       "| 38 | 1 | 3 | 138 | 175 | 0 | 0 | 173 | 0 | 0.0 | 1 | ?   | 3.0 | 0 |\n",
       "\n"
      ],
      "text/plain": [
       "    age sex cp trestbps chol fbs restecg thalach exang oldpeak slope ca  thal\n",
       "1   64  1   1  110      211  0   2       144     1     1.8     2     0.0 3.0 \n",
       "2   58  0   1  150      283  1   2       162     0     1.0     1     0.0 3.0 \n",
       "3   58  1   2  120      284  0   2       160     0     1.8     2     0.0 3.0 \n",
       "⋮   ⋮   ⋮   ⋮  ⋮        ⋮    ⋮   ⋮       ⋮       ⋮     ⋮       ⋮     ⋮   ⋮   \n",
       "281 57  1   4  130      131  0   0       115     1     1.2     2     1.0 7.0 \n",
       "282 57  0   2  130      236  0   2       174     0     0.0     2     1.0 3.0 \n",
       "283 38  1   3  138      175  0   0       173     0     0.0     1     ?   3.0 \n",
       "    num\n",
       "1   0  \n",
       "2   0  \n",
       "3   1  \n",
       "⋮   ⋮  \n",
       "281 3  \n",
       "282 1  \n",
       "283 0  "
      ]
     },
     "metadata": {},
     "output_type": "display_data"
    }
   ],
   "source": [
    "processed_cleveland_data <- read_delim(\"Data/processed.cleveland.data\", skip = 20, col_names = c(\"age\", \"sex\", \"cp\", \"trestbps\", \"chol\", \"fbs\", \"restecg\", \"thalach\", \"exang\", \"oldpeak\", \"slope\", \"ca\", \"thal\", \"num\"))\n",
    "processed_cleveland_data"
   ]
  },
  {
   "cell_type": "code",
   "execution_count": 22,
   "id": "3126c46f-e2f5-480d-9353-bca04eae73e4",
   "metadata": {},
   "outputs": [
    {
     "name": "stderr",
     "output_type": "stream",
     "text": [
      "\u001b[1mRows: \u001b[22m\u001b[34m274\u001b[39m \u001b[1mColumns: \u001b[22m\u001b[34m14\u001b[39m\n",
      "\u001b[36m──\u001b[39m \u001b[1mColumn specification\u001b[22m \u001b[36m────────────────────────────────────────────────────────\u001b[39m\n",
      "\u001b[1mDelimiter:\u001b[22m \",\"\n",
      "\u001b[31mchr\u001b[39m (9): trestbps, chol, fbs, restecg, thalach, exang, slope, ca, thal\n",
      "\u001b[32mdbl\u001b[39m (5): age, sex, cp, oldpeak, num\n",
      "\n",
      "\u001b[36mℹ\u001b[39m Use `spec()` to retrieve the full column specification for this data.\n",
      "\u001b[36mℹ\u001b[39m Specify the column types or set `show_col_types = FALSE` to quiet this message.\n"
     ]
    },
    {
     "data": {
      "text/html": [
       "<table class=\"dataframe\">\n",
       "<caption>A spec_tbl_df: 274 × 14</caption>\n",
       "<thead>\n",
       "\t<tr><th scope=col>age</th><th scope=col>sex</th><th scope=col>cp</th><th scope=col>trestbps</th><th scope=col>chol</th><th scope=col>fbs</th><th scope=col>restecg</th><th scope=col>thalach</th><th scope=col>exang</th><th scope=col>oldpeak</th><th scope=col>slope</th><th scope=col>ca</th><th scope=col>thal</th><th scope=col>num</th></tr>\n",
       "\t<tr><th scope=col>&lt;dbl&gt;</th><th scope=col>&lt;dbl&gt;</th><th scope=col>&lt;dbl&gt;</th><th scope=col>&lt;chr&gt;</th><th scope=col>&lt;chr&gt;</th><th scope=col>&lt;chr&gt;</th><th scope=col>&lt;chr&gt;</th><th scope=col>&lt;chr&gt;</th><th scope=col>&lt;chr&gt;</th><th scope=col>&lt;dbl&gt;</th><th scope=col>&lt;chr&gt;</th><th scope=col>&lt;chr&gt;</th><th scope=col>&lt;chr&gt;</th><th scope=col>&lt;dbl&gt;</th></tr>\n",
       "</thead>\n",
       "<tbody>\n",
       "\t<tr><td>37</td><td>0</td><td>2</td><td>120</td><td>260</td><td>0</td><td>0</td><td>130</td><td>0</td><td>0</td><td>?</td><td>?</td><td>?</td><td>0</td></tr>\n",
       "\t<tr><td>37</td><td>0</td><td>3</td><td>130</td><td>211</td><td>0</td><td>0</td><td>142</td><td>0</td><td>0</td><td>?</td><td>?</td><td>?</td><td>0</td></tr>\n",
       "\t<tr><td>37</td><td>0</td><td>4</td><td>130</td><td>173</td><td>0</td><td>1</td><td>184</td><td>0</td><td>0</td><td>?</td><td>?</td><td>?</td><td>0</td></tr>\n",
       "\t<tr><td>⋮</td><td>⋮</td><td>⋮</td><td>⋮</td><td>⋮</td><td>⋮</td><td>⋮</td><td>⋮</td><td>⋮</td><td>⋮</td><td>⋮</td><td>⋮</td><td>⋮</td><td>⋮</td></tr>\n",
       "\t<tr><td>56</td><td>1</td><td>4</td><td>155</td><td>342</td><td>1</td><td>0</td><td>150</td><td>1</td><td>3</td><td>2</td><td>?</td><td>?</td><td>1</td></tr>\n",
       "\t<tr><td>58</td><td>0</td><td>2</td><td>180</td><td>393</td><td>0</td><td>0</td><td>110</td><td>1</td><td>1</td><td>2</td><td>?</td><td>7</td><td>1</td></tr>\n",
       "\t<tr><td>65</td><td>1</td><td>4</td><td>130</td><td>275</td><td>0</td><td>1</td><td>115</td><td>1</td><td>1</td><td>2</td><td>?</td><td>?</td><td>1</td></tr>\n",
       "</tbody>\n",
       "</table>\n"
      ],
      "text/latex": [
       "A spec\\_tbl\\_df: 274 × 14\n",
       "\\begin{tabular}{llllllllllllll}\n",
       " age & sex & cp & trestbps & chol & fbs & restecg & thalach & exang & oldpeak & slope & ca & thal & num\\\\\n",
       " <dbl> & <dbl> & <dbl> & <chr> & <chr> & <chr> & <chr> & <chr> & <chr> & <dbl> & <chr> & <chr> & <chr> & <dbl>\\\\\n",
       "\\hline\n",
       "\t 37 & 0 & 2 & 120 & 260 & 0 & 0 & 130 & 0 & 0 & ? & ? & ? & 0\\\\\n",
       "\t 37 & 0 & 3 & 130 & 211 & 0 & 0 & 142 & 0 & 0 & ? & ? & ? & 0\\\\\n",
       "\t 37 & 0 & 4 & 130 & 173 & 0 & 1 & 184 & 0 & 0 & ? & ? & ? & 0\\\\\n",
       "\t ⋮ & ⋮ & ⋮ & ⋮ & ⋮ & ⋮ & ⋮ & ⋮ & ⋮ & ⋮ & ⋮ & ⋮ & ⋮ & ⋮\\\\\n",
       "\t 56 & 1 & 4 & 155 & 342 & 1 & 0 & 150 & 1 & 3 & 2 & ? & ? & 1\\\\\n",
       "\t 58 & 0 & 2 & 180 & 393 & 0 & 0 & 110 & 1 & 1 & 2 & ? & 7 & 1\\\\\n",
       "\t 65 & 1 & 4 & 130 & 275 & 0 & 1 & 115 & 1 & 1 & 2 & ? & ? & 1\\\\\n",
       "\\end{tabular}\n"
      ],
      "text/markdown": [
       "\n",
       "A spec_tbl_df: 274 × 14\n",
       "\n",
       "| age &lt;dbl&gt; | sex &lt;dbl&gt; | cp &lt;dbl&gt; | trestbps &lt;chr&gt; | chol &lt;chr&gt; | fbs &lt;chr&gt; | restecg &lt;chr&gt; | thalach &lt;chr&gt; | exang &lt;chr&gt; | oldpeak &lt;dbl&gt; | slope &lt;chr&gt; | ca &lt;chr&gt; | thal &lt;chr&gt; | num &lt;dbl&gt; |\n",
       "|---|---|---|---|---|---|---|---|---|---|---|---|---|---|\n",
       "| 37 | 0 | 2 | 120 | 260 | 0 | 0 | 130 | 0 | 0 | ? | ? | ? | 0 |\n",
       "| 37 | 0 | 3 | 130 | 211 | 0 | 0 | 142 | 0 | 0 | ? | ? | ? | 0 |\n",
       "| 37 | 0 | 4 | 130 | 173 | 0 | 1 | 184 | 0 | 0 | ? | ? | ? | 0 |\n",
       "| ⋮ | ⋮ | ⋮ | ⋮ | ⋮ | ⋮ | ⋮ | ⋮ | ⋮ | ⋮ | ⋮ | ⋮ | ⋮ | ⋮ |\n",
       "| 56 | 1 | 4 | 155 | 342 | 1 | 0 | 150 | 1 | 3 | 2 | ? | ? | 1 |\n",
       "| 58 | 0 | 2 | 180 | 393 | 0 | 0 | 110 | 1 | 1 | 2 | ? | 7 | 1 |\n",
       "| 65 | 1 | 4 | 130 | 275 | 0 | 1 | 115 | 1 | 1 | 2 | ? | ? | 1 |\n",
       "\n"
      ],
      "text/plain": [
       "    age sex cp trestbps chol fbs restecg thalach exang oldpeak slope ca thal\n",
       "1   37  0   2  120      260  0   0       130     0     0       ?     ?  ?   \n",
       "2   37  0   3  130      211  0   0       142     0     0       ?     ?  ?   \n",
       "3   37  0   4  130      173  0   1       184     0     0       ?     ?  ?   \n",
       "⋮   ⋮   ⋮   ⋮  ⋮        ⋮    ⋮   ⋮       ⋮       ⋮     ⋮       ⋮     ⋮  ⋮   \n",
       "272 56  1   4  155      342  1   0       150     1     3       2     ?  ?   \n",
       "273 58  0   2  180      393  0   0       110     1     1       2     ?  7   \n",
       "274 65  1   4  130      275  0   1       115     1     1       2     ?  ?   \n",
       "    num\n",
       "1   0  \n",
       "2   0  \n",
       "3   0  \n",
       "⋮   ⋮  \n",
       "272 1  \n",
       "273 1  \n",
       "274 1  "
      ]
     },
     "metadata": {},
     "output_type": "display_data"
    }
   ],
   "source": [
    "processed_hungarian_data <- read_delim(\"Data/processed.hungarian.data\", skip = 20, col_names = c(\"age\", \"sex\", \"cp\", \"trestbps\", \"chol\", \"fbs\", \"restecg\", \"thalach\", \"exang\", \"oldpeak\", \"slope\", \"ca\", \"thal\", \"num\"))\n",
    "processed_hungarian_data"
   ]
  },
  {
   "cell_type": "code",
   "execution_count": 23,
   "id": "dcad4f53-c178-4f02-a321-d2938f37fd4e",
   "metadata": {},
   "outputs": [
    {
     "name": "stderr",
     "output_type": "stream",
     "text": [
      "\u001b[1mRows: \u001b[22m\u001b[34m103\u001b[39m \u001b[1mColumns: \u001b[22m\u001b[34m14\u001b[39m\n",
      "\u001b[36m──\u001b[39m \u001b[1mColumn specification\u001b[22m \u001b[36m────────────────────────────────────────────────────────\u001b[39m\n",
      "\u001b[1mDelimiter:\u001b[22m \",\"\n",
      "\u001b[31mchr\u001b[39m (8): trestbps, fbs, thalach, exang, oldpeak, slope, ca, thal\n",
      "\u001b[32mdbl\u001b[39m (6): age, sex, cp, chol, restecg, num\n",
      "\n",
      "\u001b[36mℹ\u001b[39m Use `spec()` to retrieve the full column specification for this data.\n",
      "\u001b[36mℹ\u001b[39m Specify the column types or set `show_col_types = FALSE` to quiet this message.\n"
     ]
    },
    {
     "data": {
      "text/html": [
       "<table class=\"dataframe\">\n",
       "<caption>A spec_tbl_df: 103 × 14</caption>\n",
       "<thead>\n",
       "\t<tr><th scope=col>age</th><th scope=col>sex</th><th scope=col>cp</th><th scope=col>trestbps</th><th scope=col>chol</th><th scope=col>fbs</th><th scope=col>restecg</th><th scope=col>thalach</th><th scope=col>exang</th><th scope=col>oldpeak</th><th scope=col>slope</th><th scope=col>ca</th><th scope=col>thal</th><th scope=col>num</th></tr>\n",
       "\t<tr><th scope=col>&lt;dbl&gt;</th><th scope=col>&lt;dbl&gt;</th><th scope=col>&lt;dbl&gt;</th><th scope=col>&lt;chr&gt;</th><th scope=col>&lt;dbl&gt;</th><th scope=col>&lt;chr&gt;</th><th scope=col>&lt;dbl&gt;</th><th scope=col>&lt;chr&gt;</th><th scope=col>&lt;chr&gt;</th><th scope=col>&lt;chr&gt;</th><th scope=col>&lt;chr&gt;</th><th scope=col>&lt;chr&gt;</th><th scope=col>&lt;chr&gt;</th><th scope=col>&lt;dbl&gt;</th></tr>\n",
       "</thead>\n",
       "<tbody>\n",
       "\t<tr><td>47</td><td>1</td><td>3</td><td>110</td><td>0</td><td>?</td><td>0</td><td>120</td><td>1</td><td>0  </td><td>?</td><td>?</td><td>3</td><td>1</td></tr>\n",
       "\t<tr><td>47</td><td>1</td><td>3</td><td>155</td><td>0</td><td>0</td><td>0</td><td>118</td><td>1</td><td>1  </td><td>2</td><td>?</td><td>3</td><td>3</td></tr>\n",
       "\t<tr><td>47</td><td>1</td><td>4</td><td>110</td><td>0</td><td>?</td><td>1</td><td>149</td><td>0</td><td>2.1</td><td>1</td><td>?</td><td>?</td><td>2</td></tr>\n",
       "\t<tr><td>⋮</td><td>⋮</td><td>⋮</td><td>⋮</td><td>⋮</td><td>⋮</td><td>⋮</td><td>⋮</td><td>⋮</td><td>⋮</td><td>⋮</td><td>⋮</td><td>⋮</td><td>⋮</td></tr>\n",
       "\t<tr><td>72</td><td>1</td><td>3</td><td>160</td><td>0</td><td>?</td><td>2</td><td>114</td><td>0</td><td>1.6</td><td>2</td><td>2</td><td>?</td><td>0</td></tr>\n",
       "\t<tr><td>73</td><td>0</td><td>3</td><td>160</td><td>0</td><td>0</td><td>1</td><td>121</td><td>0</td><td>0  </td><td>1</td><td>?</td><td>3</td><td>1</td></tr>\n",
       "\t<tr><td>74</td><td>1</td><td>2</td><td>145</td><td>0</td><td>?</td><td>1</td><td>123</td><td>0</td><td>1.3</td><td>1</td><td>?</td><td>?</td><td>1</td></tr>\n",
       "</tbody>\n",
       "</table>\n"
      ],
      "text/latex": [
       "A spec\\_tbl\\_df: 103 × 14\n",
       "\\begin{tabular}{llllllllllllll}\n",
       " age & sex & cp & trestbps & chol & fbs & restecg & thalach & exang & oldpeak & slope & ca & thal & num\\\\\n",
       " <dbl> & <dbl> & <dbl> & <chr> & <dbl> & <chr> & <dbl> & <chr> & <chr> & <chr> & <chr> & <chr> & <chr> & <dbl>\\\\\n",
       "\\hline\n",
       "\t 47 & 1 & 3 & 110 & 0 & ? & 0 & 120 & 1 & 0   & ? & ? & 3 & 1\\\\\n",
       "\t 47 & 1 & 3 & 155 & 0 & 0 & 0 & 118 & 1 & 1   & 2 & ? & 3 & 3\\\\\n",
       "\t 47 & 1 & 4 & 110 & 0 & ? & 1 & 149 & 0 & 2.1 & 1 & ? & ? & 2\\\\\n",
       "\t ⋮ & ⋮ & ⋮ & ⋮ & ⋮ & ⋮ & ⋮ & ⋮ & ⋮ & ⋮ & ⋮ & ⋮ & ⋮ & ⋮\\\\\n",
       "\t 72 & 1 & 3 & 160 & 0 & ? & 2 & 114 & 0 & 1.6 & 2 & 2 & ? & 0\\\\\n",
       "\t 73 & 0 & 3 & 160 & 0 & 0 & 1 & 121 & 0 & 0   & 1 & ? & 3 & 1\\\\\n",
       "\t 74 & 1 & 2 & 145 & 0 & ? & 1 & 123 & 0 & 1.3 & 1 & ? & ? & 1\\\\\n",
       "\\end{tabular}\n"
      ],
      "text/markdown": [
       "\n",
       "A spec_tbl_df: 103 × 14\n",
       "\n",
       "| age &lt;dbl&gt; | sex &lt;dbl&gt; | cp &lt;dbl&gt; | trestbps &lt;chr&gt; | chol &lt;dbl&gt; | fbs &lt;chr&gt; | restecg &lt;dbl&gt; | thalach &lt;chr&gt; | exang &lt;chr&gt; | oldpeak &lt;chr&gt; | slope &lt;chr&gt; | ca &lt;chr&gt; | thal &lt;chr&gt; | num &lt;dbl&gt; |\n",
       "|---|---|---|---|---|---|---|---|---|---|---|---|---|---|\n",
       "| 47 | 1 | 3 | 110 | 0 | ? | 0 | 120 | 1 | 0   | ? | ? | 3 | 1 |\n",
       "| 47 | 1 | 3 | 155 | 0 | 0 | 0 | 118 | 1 | 1   | 2 | ? | 3 | 3 |\n",
       "| 47 | 1 | 4 | 110 | 0 | ? | 1 | 149 | 0 | 2.1 | 1 | ? | ? | 2 |\n",
       "| ⋮ | ⋮ | ⋮ | ⋮ | ⋮ | ⋮ | ⋮ | ⋮ | ⋮ | ⋮ | ⋮ | ⋮ | ⋮ | ⋮ |\n",
       "| 72 | 1 | 3 | 160 | 0 | ? | 2 | 114 | 0 | 1.6 | 2 | 2 | ? | 0 |\n",
       "| 73 | 0 | 3 | 160 | 0 | 0 | 1 | 121 | 0 | 0   | 1 | ? | 3 | 1 |\n",
       "| 74 | 1 | 2 | 145 | 0 | ? | 1 | 123 | 0 | 1.3 | 1 | ? | ? | 1 |\n",
       "\n"
      ],
      "text/plain": [
       "    age sex cp trestbps chol fbs restecg thalach exang oldpeak slope ca thal\n",
       "1   47  1   3  110      0    ?   0       120     1     0       ?     ?  3   \n",
       "2   47  1   3  155      0    0   0       118     1     1       2     ?  3   \n",
       "3   47  1   4  110      0    ?   1       149     0     2.1     1     ?  ?   \n",
       "⋮   ⋮   ⋮   ⋮  ⋮        ⋮    ⋮   ⋮       ⋮       ⋮     ⋮       ⋮     ⋮  ⋮   \n",
       "101 72  1   3  160      0    ?   2       114     0     1.6     2     2  ?   \n",
       "102 73  0   3  160      0    0   1       121     0     0       1     ?  3   \n",
       "103 74  1   2  145      0    ?   1       123     0     1.3     1     ?  ?   \n",
       "    num\n",
       "1   1  \n",
       "2   3  \n",
       "3   2  \n",
       "⋮   ⋮  \n",
       "101 0  \n",
       "102 1  \n",
       "103 1  "
      ]
     },
     "metadata": {},
     "output_type": "display_data"
    }
   ],
   "source": [
    "processed_switzerland_data <- read_delim(\"Data/processed.switzerland.data\", skip = 20, col_names = c(\"age\", \"sex\", \"cp\", \"trestbps\", \"chol\", \"fbs\", \"restecg\", \"thalach\", \"exang\", \"oldpeak\", \"slope\", \"ca\", \"thal\", \"num\"))\n",
    "processed_switzerland_data"
   ]
  },
  {
   "cell_type": "code",
   "execution_count": 24,
   "id": "7165cb02-7d3e-4208-b58d-411598d640e9",
   "metadata": {},
   "outputs": [
    {
     "name": "stderr",
     "output_type": "stream",
     "text": [
      "\u001b[1mRows: \u001b[22m\u001b[34m180\u001b[39m \u001b[1mColumns: \u001b[22m\u001b[34m14\u001b[39m\n",
      "\u001b[36m──\u001b[39m \u001b[1mColumn specification\u001b[22m \u001b[36m────────────────────────────────────────────────────────\u001b[39m\n",
      "\u001b[1mDelimiter:\u001b[22m \",\"\n",
      "\u001b[31mchr\u001b[39m (9): trestbps, chol, fbs, thalach, exang, oldpeak, slope, ca, thal\n",
      "\u001b[32mdbl\u001b[39m (5): age, sex, cp, restecg, num\n",
      "\n",
      "\u001b[36mℹ\u001b[39m Use `spec()` to retrieve the full column specification for this data.\n",
      "\u001b[36mℹ\u001b[39m Specify the column types or set `show_col_types = FALSE` to quiet this message.\n"
     ]
    },
    {
     "data": {
      "text/html": [
       "<table class=\"dataframe\">\n",
       "<caption>A spec_tbl_df: 180 × 14</caption>\n",
       "<thead>\n",
       "\t<tr><th scope=col>age</th><th scope=col>sex</th><th scope=col>cp</th><th scope=col>trestbps</th><th scope=col>chol</th><th scope=col>fbs</th><th scope=col>restecg</th><th scope=col>thalach</th><th scope=col>exang</th><th scope=col>oldpeak</th><th scope=col>slope</th><th scope=col>ca</th><th scope=col>thal</th><th scope=col>num</th></tr>\n",
       "\t<tr><th scope=col>&lt;dbl&gt;</th><th scope=col>&lt;dbl&gt;</th><th scope=col>&lt;dbl&gt;</th><th scope=col>&lt;chr&gt;</th><th scope=col>&lt;chr&gt;</th><th scope=col>&lt;chr&gt;</th><th scope=col>&lt;dbl&gt;</th><th scope=col>&lt;chr&gt;</th><th scope=col>&lt;chr&gt;</th><th scope=col>&lt;chr&gt;</th><th scope=col>&lt;chr&gt;</th><th scope=col>&lt;chr&gt;</th><th scope=col>&lt;chr&gt;</th><th scope=col>&lt;dbl&gt;</th></tr>\n",
       "</thead>\n",
       "<tbody>\n",
       "\t<tr><td>58</td><td>1</td><td>4</td><td>116</td><td>0</td><td>0</td><td>0</td><td>124</td><td>0</td><td>1</td><td>1</td><td>?</td><td>?</td><td>2</td></tr>\n",
       "\t<tr><td>64</td><td>1</td><td>4</td><td>120</td><td>0</td><td>1</td><td>1</td><td>106</td><td>0</td><td>2</td><td>2</td><td>?</td><td>?</td><td>1</td></tr>\n",
       "\t<tr><td>63</td><td>1</td><td>3</td><td>130</td><td>0</td><td>0</td><td>1</td><td>111</td><td>1</td><td>0</td><td>?</td><td>?</td><td>?</td><td>3</td></tr>\n",
       "\t<tr><td>⋮</td><td>⋮</td><td>⋮</td><td>⋮</td><td>⋮</td><td>⋮</td><td>⋮</td><td>⋮</td><td>⋮</td><td>⋮</td><td>⋮</td><td>⋮</td><td>⋮</td><td>⋮</td></tr>\n",
       "\t<tr><td>55</td><td>1</td><td>4</td><td>122</td><td>223</td><td>1</td><td>1</td><td>100</td><td>0</td><td>0</td><td>?</td><td>?</td><td>6</td><td>2</td></tr>\n",
       "\t<tr><td>58</td><td>1</td><td>4</td><td>?  </td><td>385</td><td>1</td><td>2</td><td>?  </td><td>?</td><td>?</td><td>?</td><td>?</td><td>?</td><td>0</td></tr>\n",
       "\t<tr><td>62</td><td>1</td><td>2</td><td>120</td><td>254</td><td>0</td><td>2</td><td>93 </td><td>1</td><td>0</td><td>?</td><td>?</td><td>?</td><td>1</td></tr>\n",
       "</tbody>\n",
       "</table>\n"
      ],
      "text/latex": [
       "A spec\\_tbl\\_df: 180 × 14\n",
       "\\begin{tabular}{llllllllllllll}\n",
       " age & sex & cp & trestbps & chol & fbs & restecg & thalach & exang & oldpeak & slope & ca & thal & num\\\\\n",
       " <dbl> & <dbl> & <dbl> & <chr> & <chr> & <chr> & <dbl> & <chr> & <chr> & <chr> & <chr> & <chr> & <chr> & <dbl>\\\\\n",
       "\\hline\n",
       "\t 58 & 1 & 4 & 116 & 0 & 0 & 0 & 124 & 0 & 1 & 1 & ? & ? & 2\\\\\n",
       "\t 64 & 1 & 4 & 120 & 0 & 1 & 1 & 106 & 0 & 2 & 2 & ? & ? & 1\\\\\n",
       "\t 63 & 1 & 3 & 130 & 0 & 0 & 1 & 111 & 1 & 0 & ? & ? & ? & 3\\\\\n",
       "\t ⋮ & ⋮ & ⋮ & ⋮ & ⋮ & ⋮ & ⋮ & ⋮ & ⋮ & ⋮ & ⋮ & ⋮ & ⋮ & ⋮\\\\\n",
       "\t 55 & 1 & 4 & 122 & 223 & 1 & 1 & 100 & 0 & 0 & ? & ? & 6 & 2\\\\\n",
       "\t 58 & 1 & 4 & ?   & 385 & 1 & 2 & ?   & ? & ? & ? & ? & ? & 0\\\\\n",
       "\t 62 & 1 & 2 & 120 & 254 & 0 & 2 & 93  & 1 & 0 & ? & ? & ? & 1\\\\\n",
       "\\end{tabular}\n"
      ],
      "text/markdown": [
       "\n",
       "A spec_tbl_df: 180 × 14\n",
       "\n",
       "| age &lt;dbl&gt; | sex &lt;dbl&gt; | cp &lt;dbl&gt; | trestbps &lt;chr&gt; | chol &lt;chr&gt; | fbs &lt;chr&gt; | restecg &lt;dbl&gt; | thalach &lt;chr&gt; | exang &lt;chr&gt; | oldpeak &lt;chr&gt; | slope &lt;chr&gt; | ca &lt;chr&gt; | thal &lt;chr&gt; | num &lt;dbl&gt; |\n",
       "|---|---|---|---|---|---|---|---|---|---|---|---|---|---|\n",
       "| 58 | 1 | 4 | 116 | 0 | 0 | 0 | 124 | 0 | 1 | 1 | ? | ? | 2 |\n",
       "| 64 | 1 | 4 | 120 | 0 | 1 | 1 | 106 | 0 | 2 | 2 | ? | ? | 1 |\n",
       "| 63 | 1 | 3 | 130 | 0 | 0 | 1 | 111 | 1 | 0 | ? | ? | ? | 3 |\n",
       "| ⋮ | ⋮ | ⋮ | ⋮ | ⋮ | ⋮ | ⋮ | ⋮ | ⋮ | ⋮ | ⋮ | ⋮ | ⋮ | ⋮ |\n",
       "| 55 | 1 | 4 | 122 | 223 | 1 | 1 | 100 | 0 | 0 | ? | ? | 6 | 2 |\n",
       "| 58 | 1 | 4 | ?   | 385 | 1 | 2 | ?   | ? | ? | ? | ? | ? | 0 |\n",
       "| 62 | 1 | 2 | 120 | 254 | 0 | 2 | 93  | 1 | 0 | ? | ? | ? | 1 |\n",
       "\n"
      ],
      "text/plain": [
       "    age sex cp trestbps chol fbs restecg thalach exang oldpeak slope ca thal\n",
       "1   58  1   4  116      0    0   0       124     0     1       1     ?  ?   \n",
       "2   64  1   4  120      0    1   1       106     0     2       2     ?  ?   \n",
       "3   63  1   3  130      0    0   1       111     1     0       ?     ?  ?   \n",
       "⋮   ⋮   ⋮   ⋮  ⋮        ⋮    ⋮   ⋮       ⋮       ⋮     ⋮       ⋮     ⋮  ⋮   \n",
       "178 55  1   4  122      223  1   1       100     0     0       ?     ?  6   \n",
       "179 58  1   4  ?        385  1   2       ?       ?     ?       ?     ?  ?   \n",
       "180 62  1   2  120      254  0   2       93      1     0       ?     ?  ?   \n",
       "    num\n",
       "1   2  \n",
       "2   1  \n",
       "3   3  \n",
       "⋮   ⋮  \n",
       "178 2  \n",
       "179 0  \n",
       "180 1  "
      ]
     },
     "metadata": {},
     "output_type": "display_data"
    }
   ],
   "source": [
    "processed_va_data <- read_delim(\"Data/processed.va.data\", skip = 20, col_names = c(\"age\", \"sex\", \"cp\", \"trestbps\", \"chol\", \"fbs\", \"restecg\", \"thalach\", \"exang\", \"oldpeak\", \"slope\", \"ca\", \"thal\", \"num\"))\n",
    "processed_va_data"
   ]
  },
  {
   "cell_type": "code",
   "execution_count": 25,
   "id": "7d7d7c7e-3e61-4eeb-a726-9b9d6fadb988",
   "metadata": {},
   "outputs": [
    {
     "name": "stderr",
     "output_type": "stream",
     "text": [
      "\u001b[1mRows: \u001b[22m\u001b[34m274\u001b[39m \u001b[1mColumns: \u001b[22m\u001b[34m14\u001b[39m\n",
      "\u001b[36m──\u001b[39m \u001b[1mColumn specification\u001b[22m \u001b[36m────────────────────────────────────────────────────────\u001b[39m\n",
      "\u001b[1mDelimiter:\u001b[22m \" \"\n",
      "\u001b[32mdbl\u001b[39m (14): age, sex, cp, trestbps, chol, fbs, restecg, thalach, exang, oldpea...\n",
      "\n",
      "\u001b[36mℹ\u001b[39m Use `spec()` to retrieve the full column specification for this data.\n",
      "\u001b[36mℹ\u001b[39m Specify the column types or set `show_col_types = FALSE` to quiet this message.\n"
     ]
    },
    {
     "data": {
      "text/html": [
       "<table class=\"dataframe\">\n",
       "<caption>A spec_tbl_df: 274 × 14</caption>\n",
       "<thead>\n",
       "\t<tr><th scope=col>age</th><th scope=col>sex</th><th scope=col>cp</th><th scope=col>trestbps</th><th scope=col>chol</th><th scope=col>fbs</th><th scope=col>restecg</th><th scope=col>thalach</th><th scope=col>exang</th><th scope=col>oldpeak</th><th scope=col>slope</th><th scope=col>ca</th><th scope=col>thal</th><th scope=col>num</th></tr>\n",
       "\t<tr><th scope=col>&lt;dbl&gt;</th><th scope=col>&lt;dbl&gt;</th><th scope=col>&lt;dbl&gt;</th><th scope=col>&lt;dbl&gt;</th><th scope=col>&lt;dbl&gt;</th><th scope=col>&lt;dbl&gt;</th><th scope=col>&lt;dbl&gt;</th><th scope=col>&lt;dbl&gt;</th><th scope=col>&lt;dbl&gt;</th><th scope=col>&lt;dbl&gt;</th><th scope=col>&lt;dbl&gt;</th><th scope=col>&lt;dbl&gt;</th><th scope=col>&lt;dbl&gt;</th><th scope=col>&lt;dbl&gt;</th></tr>\n",
       "</thead>\n",
       "<tbody>\n",
       "\t<tr><td>43</td><td>0</td><td>1</td><td>100</td><td>223</td><td>0</td><td>0</td><td>142</td><td>0</td><td>0</td><td>-9</td><td>-9</td><td>-9</td><td>0</td></tr>\n",
       "\t<tr><td>44</td><td>1</td><td>2</td><td>120</td><td>184</td><td>0</td><td>0</td><td>142</td><td>0</td><td>1</td><td> 2</td><td>-9</td><td>-9</td><td>0</td></tr>\n",
       "\t<tr><td>49</td><td>0</td><td>2</td><td>124</td><td>201</td><td>0</td><td>0</td><td>164</td><td>0</td><td>0</td><td>-9</td><td>-9</td><td>-9</td><td>0</td></tr>\n",
       "\t<tr><td>⋮</td><td>⋮</td><td>⋮</td><td>⋮</td><td>⋮</td><td>⋮</td><td>⋮</td><td>⋮</td><td>⋮</td><td>⋮</td><td>⋮</td><td>⋮</td><td>⋮</td><td>⋮</td></tr>\n",
       "\t<tr><td>48</td><td>1</td><td>3</td><td>110</td><td>211</td><td>0</td><td>0</td><td>138</td><td>0</td><td>0</td><td>-9</td><td>-9</td><td> 6</td><td>0</td></tr>\n",
       "\t<tr><td>47</td><td>0</td><td>2</td><td>140</td><td>257</td><td>0</td><td>0</td><td>135</td><td>0</td><td>1</td><td> 1</td><td>-9</td><td>-9</td><td>0</td></tr>\n",
       "\t<tr><td>53</td><td>1</td><td>4</td><td>130</td><td>182</td><td>0</td><td>0</td><td>148</td><td>0</td><td>0</td><td>-9</td><td>-9</td><td>-9</td><td>0</td></tr>\n",
       "</tbody>\n",
       "</table>\n"
      ],
      "text/latex": [
       "A spec\\_tbl\\_df: 274 × 14\n",
       "\\begin{tabular}{llllllllllllll}\n",
       " age & sex & cp & trestbps & chol & fbs & restecg & thalach & exang & oldpeak & slope & ca & thal & num\\\\\n",
       " <dbl> & <dbl> & <dbl> & <dbl> & <dbl> & <dbl> & <dbl> & <dbl> & <dbl> & <dbl> & <dbl> & <dbl> & <dbl> & <dbl>\\\\\n",
       "\\hline\n",
       "\t 43 & 0 & 1 & 100 & 223 & 0 & 0 & 142 & 0 & 0 & -9 & -9 & -9 & 0\\\\\n",
       "\t 44 & 1 & 2 & 120 & 184 & 0 & 0 & 142 & 0 & 1 &  2 & -9 & -9 & 0\\\\\n",
       "\t 49 & 0 & 2 & 124 & 201 & 0 & 0 & 164 & 0 & 0 & -9 & -9 & -9 & 0\\\\\n",
       "\t ⋮ & ⋮ & ⋮ & ⋮ & ⋮ & ⋮ & ⋮ & ⋮ & ⋮ & ⋮ & ⋮ & ⋮ & ⋮ & ⋮\\\\\n",
       "\t 48 & 1 & 3 & 110 & 211 & 0 & 0 & 138 & 0 & 0 & -9 & -9 &  6 & 0\\\\\n",
       "\t 47 & 0 & 2 & 140 & 257 & 0 & 0 & 135 & 0 & 1 &  1 & -9 & -9 & 0\\\\\n",
       "\t 53 & 1 & 4 & 130 & 182 & 0 & 0 & 148 & 0 & 0 & -9 & -9 & -9 & 0\\\\\n",
       "\\end{tabular}\n"
      ],
      "text/markdown": [
       "\n",
       "A spec_tbl_df: 274 × 14\n",
       "\n",
       "| age &lt;dbl&gt; | sex &lt;dbl&gt; | cp &lt;dbl&gt; | trestbps &lt;dbl&gt; | chol &lt;dbl&gt; | fbs &lt;dbl&gt; | restecg &lt;dbl&gt; | thalach &lt;dbl&gt; | exang &lt;dbl&gt; | oldpeak &lt;dbl&gt; | slope &lt;dbl&gt; | ca &lt;dbl&gt; | thal &lt;dbl&gt; | num &lt;dbl&gt; |\n",
       "|---|---|---|---|---|---|---|---|---|---|---|---|---|---|\n",
       "| 43 | 0 | 1 | 100 | 223 | 0 | 0 | 142 | 0 | 0 | -9 | -9 | -9 | 0 |\n",
       "| 44 | 1 | 2 | 120 | 184 | 0 | 0 | 142 | 0 | 1 |  2 | -9 | -9 | 0 |\n",
       "| 49 | 0 | 2 | 124 | 201 | 0 | 0 | 164 | 0 | 0 | -9 | -9 | -9 | 0 |\n",
       "| ⋮ | ⋮ | ⋮ | ⋮ | ⋮ | ⋮ | ⋮ | ⋮ | ⋮ | ⋮ | ⋮ | ⋮ | ⋮ | ⋮ |\n",
       "| 48 | 1 | 3 | 110 | 211 | 0 | 0 | 138 | 0 | 0 | -9 | -9 |  6 | 0 |\n",
       "| 47 | 0 | 2 | 140 | 257 | 0 | 0 | 135 | 0 | 1 |  1 | -9 | -9 | 0 |\n",
       "| 53 | 1 | 4 | 130 | 182 | 0 | 0 | 148 | 0 | 0 | -9 | -9 | -9 | 0 |\n",
       "\n"
      ],
      "text/plain": [
       "    age sex cp trestbps chol fbs restecg thalach exang oldpeak slope ca thal\n",
       "1   43  0   1  100      223  0   0       142     0     0       -9    -9 -9  \n",
       "2   44  1   2  120      184  0   0       142     0     1        2    -9 -9  \n",
       "3   49  0   2  124      201  0   0       164     0     0       -9    -9 -9  \n",
       "⋮   ⋮   ⋮   ⋮  ⋮        ⋮    ⋮   ⋮       ⋮       ⋮     ⋮       ⋮     ⋮  ⋮   \n",
       "272 48  1   3  110      211  0   0       138     0     0       -9    -9  6  \n",
       "273 47  0   2  140      257  0   0       135     0     1        1    -9 -9  \n",
       "274 53  1   4  130      182  0   0       148     0     0       -9    -9 -9  \n",
       "    num\n",
       "1   0  \n",
       "2   0  \n",
       "3   0  \n",
       "⋮   ⋮  \n",
       "272 0  \n",
       "273 0  \n",
       "274 0  "
      ]
     },
     "metadata": {},
     "output_type": "display_data"
    }
   ],
   "source": [
    "reprocessed_hungarian_data <- read_delim(\"Data/reprocessed.hungarian.data\", skip = 20, col_names = c(\"age\", \"sex\", \"cp\", \"trestbps\", \"chol\", \"fbs\", \"restecg\", \"thalach\", \"exang\", \"oldpeak\", \"slope\", \"ca\", \"thal\", \"num\"))\n",
    "reprocessed_hungarian_data"
   ]
  },
  {
   "cell_type": "markdown",
   "id": "4748abeb-6afa-44df-a650-03d1273b22fc",
   "metadata": {},
   "source": [
    "### Methods"
   ]
  },
  {
   "cell_type": "markdown",
   "id": "c03becf7-edb3-4a13-b33d-50ce7aeeb5a5",
   "metadata": {},
   "source": [
    "### Expected outcomes and Significance"
   ]
  }
 ],
 "metadata": {
  "kernelspec": {
   "display_name": "R",
   "language": "R",
   "name": "ir"
  },
  "language_info": {
   "codemirror_mode": "r",
   "file_extension": ".r",
   "mimetype": "text/x-r-source",
   "name": "R",
   "pygments_lexer": "r",
   "version": "4.3.1"
  }
 },
 "nbformat": 4,
 "nbformat_minor": 5
}
