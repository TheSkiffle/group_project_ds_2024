{
 "cells": [
  {
   "cell_type": "code",
   "execution_count": 14,
   "id": "b9de20ed-9e56-465a-aa93-06e97c05e56b",
   "metadata": {},
   "outputs": [],
   "source": [
    "### Run this cell before continuing.\n",
    "library(tidyverse)\n",
    "library(repr)\n",
    "library(tidymodels)\n",
    "options(repr.matrix.max.rows = 6)"
   ]
  },
  {
   "cell_type": "markdown",
   "id": "466694f4-136e-417e-b03c-5770fa08a02f",
   "metadata": {},
   "source": [
    "# **Title**"
   ]
  },
  {
   "cell_type": "markdown",
   "id": "d5890565-9ace-46f8-9b71-505e42aa07f3",
   "metadata": {},
   "source": [
    "### Introduction"
   ]
  },
  {
   "cell_type": "markdown",
   "id": "503ec78d-c0f4-44fc-b5ea-5db545ebe67e",
   "metadata": {},
   "source": [
    "##### Provide some relevant background information on the topic so that someone unfamiliar with it will be prepared to understand the rest of your proposal\n",
    "\n",
    "What is angina pectoris?\n",
    "\n",
    "What is the relationship between angina (angina pectoris) and blood pressure (hypertension)?"
   ]
  },
  {
   "cell_type": "markdown",
   "id": "12cd6b1f-befc-4315-877a-4837a2ac71f5",
   "metadata": {},
   "source": [
    "##### Clearly state the question you will try to answer with your project\n",
    "\n",
    "What is the impact of [], [], and [] on exercise induced angina? "
   ]
  },
  {
   "cell_type": "markdown",
   "id": "ec814ae0-8a58-4cdf-a8b7-5d4bf094997b",
   "metadata": {},
   "source": [
    "##### Identify and describe the dataset that will be used to answer the question\n",
    "\n",
    "Using the [Heart Disease dataset](https://archive.ics.uci.edu/dataset/45/heart+disease), this research aims to evaluate the impact of resting blood pressure on the likelihood of an exercise induced angina. "
   ]
  },
  {
   "cell_type": "markdown",
   "id": "e0c717bb-e805-46c9-8e3f-9ef81f16b220",
   "metadata": {},
   "source": [
    "### Preliminary Data Analysis"
   ]
  },
  {
   "cell_type": "markdown",
   "id": "85beb1e5-1bbb-412c-921a-8f948c9451a3",
   "metadata": {},
   "source": [
    "##### Demonstrate that the dataset can be read from the web into R and clean and wrangle your data into a tidy format"
   ]
  },
  {
   "cell_type": "code",
   "execution_count": 138,
   "id": "9302810f-8364-4c0c-a4bf-a7ac52eb5369",
   "metadata": {},
   "outputs": [
    {
     "name": "stderr",
     "output_type": "stream",
     "text": [
      "\u001b[1mRows: \u001b[22m\u001b[34m303\u001b[39m \u001b[1mColumns: \u001b[22m\u001b[34m14\u001b[39m\n",
      "\u001b[36m──\u001b[39m \u001b[1mColumn specification\u001b[22m \u001b[36m────────────────────────────────────────────────────────\u001b[39m\n",
      "\u001b[1mDelimiter:\u001b[22m \",\"\n",
      "\u001b[31mchr\u001b[39m  (1): num\n",
      "\u001b[32mdbl\u001b[39m (13): age, sex, cp, trestbps, chol, fbs, restecg, thalach, exang, oldpea...\n",
      "\n",
      "\u001b[36mℹ\u001b[39m Use `spec()` to retrieve the full column specification for this data.\n",
      "\u001b[36mℹ\u001b[39m Specify the column types or set `show_col_types = FALSE` to quiet this message.\n",
      "\u001b[1mRows: \u001b[22m\u001b[34m294\u001b[39m \u001b[1mColumns: \u001b[22m\u001b[34m14\u001b[39m\n",
      "\u001b[36m──\u001b[39m \u001b[1mColumn specification\u001b[22m \u001b[36m────────────────────────────────────────────────────────\u001b[39m\n",
      "\u001b[1mDelimiter:\u001b[22m \" \"\n",
      "\u001b[32mdbl\u001b[39m (14): age, sex, cp, trestbps, chol, fbs, restecg, thalach, exang, oldpea...\n",
      "\n",
      "\u001b[36mℹ\u001b[39m Use `spec()` to retrieve the full column specification for this data.\n",
      "\u001b[36mℹ\u001b[39m Specify the column types or set `show_col_types = FALSE` to quiet this message.\n"
     ]
    },
    {
     "data": {
      "text/html": [
       "<table class=\"dataframe\">\n",
       "<caption>A spec_tbl_df: 597 × 14</caption>\n",
       "<thead>\n",
       "\t<tr><th scope=col>age</th><th scope=col>sex</th><th scope=col>cp</th><th scope=col>trestbps</th><th scope=col>chol</th><th scope=col>fbs</th><th scope=col>restecg</th><th scope=col>thalach</th><th scope=col>exang</th><th scope=col>oldpeak</th><th scope=col>slope</th><th scope=col>ca</th><th scope=col>thal</th><th scope=col>num</th></tr>\n",
       "\t<tr><th scope=col>&lt;dbl&gt;</th><th scope=col>&lt;dbl&gt;</th><th scope=col>&lt;dbl&gt;</th><th scope=col>&lt;dbl&gt;</th><th scope=col>&lt;dbl&gt;</th><th scope=col>&lt;dbl&gt;</th><th scope=col>&lt;dbl&gt;</th><th scope=col>&lt;dbl&gt;</th><th scope=col>&lt;dbl&gt;</th><th scope=col>&lt;dbl&gt;</th><th scope=col>&lt;dbl&gt;</th><th scope=col>&lt;dbl&gt;</th><th scope=col>&lt;dbl&gt;</th><th scope=col>&lt;chr&gt;</th></tr>\n",
       "</thead>\n",
       "<tbody>\n",
       "\t<tr><td>63</td><td>1</td><td>1</td><td>145</td><td>233</td><td>2</td><td>150</td><td>  0</td><td>2.3</td><td>3.0</td><td>0</td><td>6</td><td>0</td><td> ?</td></tr>\n",
       "\t<tr><td>67</td><td>1</td><td>4</td><td>160</td><td>286</td><td>0</td><td>  2</td><td>108</td><td>1.0</td><td>1.5</td><td>2</td><td>3</td><td>3</td><td>2 </td></tr>\n",
       "\t<tr><td>67</td><td>1</td><td>4</td><td>120</td><td>229</td><td>0</td><td>  2</td><td>129</td><td>1.0</td><td>2.6</td><td>2</td><td>2</td><td>7</td><td>1 </td></tr>\n",
       "\t<tr><td>⋮</td><td>⋮</td><td>⋮</td><td>⋮</td><td>⋮</td><td>⋮</td><td>⋮</td><td>⋮</td><td>⋮</td><td>⋮</td><td>⋮</td><td>⋮</td><td>⋮</td><td>⋮</td></tr>\n",
       "\t<tr><td>48</td><td>1</td><td>3</td><td>110</td><td>211</td><td>0</td><td>0</td><td>138</td><td>0</td><td>0</td><td>NA</td><td>NA</td><td> 6</td><td>0</td></tr>\n",
       "\t<tr><td>47</td><td>0</td><td>2</td><td>140</td><td>257</td><td>0</td><td>0</td><td>135</td><td>0</td><td>1</td><td> 1</td><td>NA</td><td>NA</td><td>0</td></tr>\n",
       "\t<tr><td>53</td><td>1</td><td>4</td><td>130</td><td>182</td><td>0</td><td>0</td><td>148</td><td>0</td><td>0</td><td>NA</td><td>NA</td><td>NA</td><td>0</td></tr>\n",
       "</tbody>\n",
       "</table>\n"
      ],
      "text/latex": [
       "A spec\\_tbl\\_df: 597 × 14\n",
       "\\begin{tabular}{llllllllllllll}\n",
       " age & sex & cp & trestbps & chol & fbs & restecg & thalach & exang & oldpeak & slope & ca & thal & num\\\\\n",
       " <dbl> & <dbl> & <dbl> & <dbl> & <dbl> & <dbl> & <dbl> & <dbl> & <dbl> & <dbl> & <dbl> & <dbl> & <dbl> & <chr>\\\\\n",
       "\\hline\n",
       "\t 63 & 1 & 1 & 145 & 233 & 2 & 150 &   0 & 2.3 & 3.0 & 0 & 6 & 0 &  ?\\\\\n",
       "\t 67 & 1 & 4 & 160 & 286 & 0 &   2 & 108 & 1.0 & 1.5 & 2 & 3 & 3 & 2 \\\\\n",
       "\t 67 & 1 & 4 & 120 & 229 & 0 &   2 & 129 & 1.0 & 2.6 & 2 & 2 & 7 & 1 \\\\\n",
       "\t ⋮ & ⋮ & ⋮ & ⋮ & ⋮ & ⋮ & ⋮ & ⋮ & ⋮ & ⋮ & ⋮ & ⋮ & ⋮ & ⋮\\\\\n",
       "\t 48 & 1 & 3 & 110 & 211 & 0 & 0 & 138 & 0 & 0 & NA & NA &  6 & 0\\\\\n",
       "\t 47 & 0 & 2 & 140 & 257 & 0 & 0 & 135 & 0 & 1 &  1 & NA & NA & 0\\\\\n",
       "\t 53 & 1 & 4 & 130 & 182 & 0 & 0 & 148 & 0 & 0 & NA & NA & NA & 0\\\\\n",
       "\\end{tabular}\n"
      ],
      "text/markdown": [
       "\n",
       "A spec_tbl_df: 597 × 14\n",
       "\n",
       "| age &lt;dbl&gt; | sex &lt;dbl&gt; | cp &lt;dbl&gt; | trestbps &lt;dbl&gt; | chol &lt;dbl&gt; | fbs &lt;dbl&gt; | restecg &lt;dbl&gt; | thalach &lt;dbl&gt; | exang &lt;dbl&gt; | oldpeak &lt;dbl&gt; | slope &lt;dbl&gt; | ca &lt;dbl&gt; | thal &lt;dbl&gt; | num &lt;chr&gt; |\n",
       "|---|---|---|---|---|---|---|---|---|---|---|---|---|---|\n",
       "| 63 | 1 | 1 | 145 | 233 | 2 | 150 |   0 | 2.3 | 3.0 | 0 | 6 | 0 |  ? |\n",
       "| 67 | 1 | 4 | 160 | 286 | 0 |   2 | 108 | 1.0 | 1.5 | 2 | 3 | 3 | 2  |\n",
       "| 67 | 1 | 4 | 120 | 229 | 0 |   2 | 129 | 1.0 | 2.6 | 2 | 2 | 7 | 1  |\n",
       "| ⋮ | ⋮ | ⋮ | ⋮ | ⋮ | ⋮ | ⋮ | ⋮ | ⋮ | ⋮ | ⋮ | ⋮ | ⋮ | ⋮ |\n",
       "| 48 | 1 | 3 | 110 | 211 | 0 | 0 | 138 | 0 | 0 | NA | NA |  6 | 0 |\n",
       "| 47 | 0 | 2 | 140 | 257 | 0 | 0 | 135 | 0 | 1 |  1 | NA | NA | 0 |\n",
       "| 53 | 1 | 4 | 130 | 182 | 0 | 0 | 148 | 0 | 0 | NA | NA | NA | 0 |\n",
       "\n"
      ],
      "text/plain": [
       "    age sex cp trestbps chol fbs restecg thalach exang oldpeak slope ca thal\n",
       "1   63  1   1  145      233  2   150       0     2.3   3.0     0     6  0   \n",
       "2   67  1   4  160      286  0     2     108     1.0   1.5     2     3  3   \n",
       "3   67  1   4  120      229  0     2     129     1.0   2.6     2     2  7   \n",
       "⋮   ⋮   ⋮   ⋮  ⋮        ⋮    ⋮   ⋮       ⋮       ⋮     ⋮       ⋮     ⋮  ⋮   \n",
       "595 48  1   3  110      211  0   0       138     0     0       NA    NA  6  \n",
       "596 47  0   2  140      257  0   0       135     0     1        1    NA NA  \n",
       "597 53  1   4  130      182  0   0       148     0     0       NA    NA NA  \n",
       "    num\n",
       "1    ? \n",
       "2   2  \n",
       "3   1  \n",
       "⋮   ⋮  \n",
       "595 0  \n",
       "596 0  \n",
       "597 0  "
      ]
     },
     "metadata": {},
     "output_type": "display_data"
    }
   ],
   "source": [
    "# The following will be the only data frames that will be used\n",
    "processed_cleveland_data <- read_delim(\"Data/processed.cleveland.data\", col_names = c(\"age\", \"sex\", \"cp\", \"trestbps\", \"chol\", \"fbs\", \"restecg\", \"thalach\", \"exang\", \"oldpeak\", \"slope\", \"ca\", \"thal\", \"num\"), na = \"?\")\n",
    "reprocessed_hungarian_data <- read_delim(\"Data/reprocessed.hungarian.data\", col_names = c(\"age\", \"sex\", \"cp\", \"trestbps\", \"chol\", \"fbs\", \"restecg\", \"thalach\", \"exang\", \"oldpeak\", \"slope\", \"ca\", \"thal\", \"num\"), na = \"-9\")\n",
    "heartdata <- rbind(processed_cleveland_data, reprocessed_hungarian_data)\n",
    "heartdata"
   ]
  },
  {
   "cell_type": "markdown",
   "id": "64a30240-5694-46ad-a9e8-ebbdf99d3609",
   "metadata": {},
   "source": [
    "##### Using only training data, summarize the data in at least one table (this is exploratory data analysis). An example of a useful table could be one that reports the number of observations in each class, the means of the predictor variables you plan to use in your analysis and how many rows have missing data. "
   ]
  },
  {
   "cell_type": "markdown",
   "id": "afed8b21-be1a-4d25-832b-7c6f0d52faa7",
   "metadata": {},
   "source": [
    "##### Using only training data, visualize the data with at least one plot relevant to the analysis you plan to do (this is exploratory data analysis). An example of a useful visualization could be one that compares the distributions of each of the predictor variables you plan to use in your analysis."
   ]
  },
  {
   "cell_type": "markdown",
   "id": "4748abeb-6afa-44df-a650-03d1273b22fc",
   "metadata": {},
   "source": [
    "### Methods"
   ]
  },
  {
   "cell_type": "markdown",
   "id": "eb5f1018-2412-4804-92b0-6b229c12b8cb",
   "metadata": {},
   "source": [
    "##### Explain how you will conduct either your data analysis and which variables/columns you will use. Note - you do not need to use all variables/columns that exist in the raw data set. In fact, that's often not a good idea. For each variable think: is this a useful variable for prediction?"
   ]
  },
  {
   "cell_type": "markdown",
   "id": "b08706ae-d7e7-4702-8a83-fb38bb46a090",
   "metadata": {},
   "source": [
    "##### Describe at least one way that you will visualize the results"
   ]
  },
  {
   "cell_type": "markdown",
   "id": "c03becf7-edb3-4a13-b33d-50ce7aeeb5a5",
   "metadata": {},
   "source": [
    "### Expected Outcomes and Significance"
   ]
  },
  {
   "cell_type": "markdown",
   "id": "90a3f863-8a22-4aae-bd55-35717314868a",
   "metadata": {},
   "source": [
    "##### What do you expect to find?"
   ]
  },
  {
   "cell_type": "markdown",
   "id": "21b8478c-7b19-49c9-b3de-3b945e2f3110",
   "metadata": {},
   "source": [
    "##### What impact could such findings have?"
   ]
  },
  {
   "cell_type": "markdown",
   "id": "be6ed018-8bae-48c0-af02-e9d1c4f3cda6",
   "metadata": {},
   "source": [
    "##### What future questions could this lead to?"
   ]
  }
 ],
 "metadata": {
  "kernelspec": {
   "display_name": "R",
   "language": "R",
   "name": "ir"
  },
  "language_info": {
   "codemirror_mode": "r",
   "file_extension": ".r",
   "mimetype": "text/x-r-source",
   "name": "R",
   "pygments_lexer": "r",
   "version": "4.3.1"
  }
 },
 "nbformat": 4,
 "nbformat_minor": 5
}
